{
 "cells": [
  {
   "cell_type": "code",
   "execution_count": 67,
   "metadata": {},
   "outputs": [],
   "source": [
    "#%pip install -r ../requirements.txt\n",
    "\n"
   ]
  },
  {
   "cell_type": "code",
   "execution_count": 68,
   "metadata": {},
   "outputs": [],
   "source": [
    "def calculate_rsi(data, window=14):\n",
    "    delta = data['Close'].diff(1)\n",
    "    gain = (delta.where(delta > 0, 0)).rolling(window=window).mean()\n",
    "    loss = (-delta.where(delta < 0, 0)).rolling(window=window).mean()\n",
    "    rs = gain / loss\n",
    "    rsi = 100 - (100 / (1 + rs))\n",
    "    return rsi\n",
    "\n",
    "def calculate_macd(data, short_window=12, long_window=26, signal_window=9):\n",
    "    # Short-term EMA (12-period)\n",
    "    short_ema = data['Close'].ewm(span=short_window, adjust=False).mean()\n",
    "    \n",
    "    # Long-term EMA (26-period)\n",
    "    long_ema = data['Close'].ewm(span=long_window, adjust=False).mean()\n",
    "    \n",
    "    # MACD Line\n",
    "    macd_line = short_ema - long_ema\n",
    "    \n",
    "    # Signal Line (9-period EMA of MACD Line)\n",
    "    signal_line = macd_line.ewm(span=signal_window, adjust=False).mean()\n",
    "    \n",
    "    # MACD Histogram (difference between MACD Line and Signal Line)\n",
    "    macd_histogram = macd_line - signal_line\n",
    "    \n",
    "    return macd_line, signal_line, macd_histogram\n"
   ]
  },
  {
   "cell_type": "code",
   "execution_count": 91,
   "metadata": {},
   "outputs": [
    {
     "name": "stdout",
     "output_type": "stream",
     "text": [
      "                       Open    High     Low   Close  Volume\n",
      "Datetime                                                   \n",
      "2024-08-15 04:00:00  417.31  418.75  416.84  418.00     473\n",
      "2024-08-15 04:01:00  418.09  418.29  418.01  418.27     665\n",
      "2024-08-15 04:02:00  418.11  418.27  417.77  417.86     459\n",
      "2024-08-15 04:03:00  418.11  418.11  417.80  417.80     183\n",
      "2024-08-15 04:04:00  418.00  418.00  417.82  418.00      40\n"
     ]
    }
   ],
   "source": [
    "import pandas as pd\n",
    "\n",
    "# Load the CSV file, assuming it's saved as 'data.csv'\n",
    "#data = pd.read_csv('../sampledata/MSFT_5d_1m_intraday_last_week.csv', parse_dates=['Datetime'], index_col='Datetime')\n",
    "data = pd.read_csv('../sampledata/msft_intraday_data.csv', parse_dates=['Datetime'], index_col='Datetime')\n",
    "\n",
    "\n",
    "#data = data[(data['Datetime'].dt.time >= pd.to_datetime('09:30:00').time()) &\n",
    "#        (data['Datetime'].dt.time <= pd.to_datetime('16:00:00').time())]\n",
    "\n",
    "\n",
    "# Display the data to ensure it's loaded correctly\n",
    "print(data.head())\n"
   ]
  },
  {
   "cell_type": "markdown",
   "metadata": {},
   "source": [
    "2. Feature Engineering\n",
    "With your data, the next step is to create features that your machine learning model can learn from. These might include:\n",
    "\n",
    "Moving averages\n",
    "Price changes over time (e.g., close-to-close percentage change)\n",
    "High-Low spread\n",
    "Here's how to create some simple features:"
   ]
  },
  {
   "cell_type": "code",
   "execution_count": 79,
   "metadata": {},
   "outputs": [],
   "source": [
    "# Feature: 10-period moving average\n",
    "data['MA10'] = data['Close'].rolling(window=10).mean()\n",
    "\n",
    "# Feature: 50-period moving average\n",
    "data['MA50'] = data['Close'].rolling(window=50).mean()\n",
    "\n",
    "# Feature: Close-to-Close percentage change\n",
    "data['Pct_Change'] = data['Close'].pct_change()\n",
    "\n",
    "# Feature: High-Low spread\n",
    "data['HL_Spread'] = data['High'] - data['Low']\n",
    "\n",
    "# Add RSI as a feature\n",
    "data['RSI'] = calculate_rsi(data)\n",
    "\n",
    "# Add MACD Line, Signal Line, and MACD Histogram as features\n",
    "data['MACD_Line'], data['Signal_Line'], data['MACD_Histogram'] = calculate_macd(data)\n",
    "\n",
    "# Calculate the percentage above/below current price for moving averages\n",
    "data['MA10_pct'] = (data['MA10'] - data['Close']) / data['Close'] * 100\n",
    "data['MA50_pct'] = (data['MA50'] - data['Close']) / data['Close'] * 100\n",
    "\n",
    "# Calculate the MACD and Signal Line as a percentage of the current price\n",
    "data['MACD_pct'] = data['MACD_Line'] / data['Close'] * 100\n",
    "data['Signal_pct'] = data['Signal_Line'] / data['Close'] * 100\n",
    "\n",
    "\n",
    "# Drop any rows with missing values due to moving averages\n",
    "data = data.dropna()\n",
    "\n"
   ]
  },
  {
   "cell_type": "markdown",
   "metadata": {},
   "source": [
    "Scale the features"
   ]
  },
  {
   "cell_type": "code",
   "execution_count": 81,
   "metadata": {},
   "outputs": [],
   "source": [
    "\n",
    "from sklearn.preprocessing import StandardScaler\n",
    "\n",
    "# Define the new percentage-based features\n",
    "features = ['MA10_pct', 'MA50_pct', 'Pct_Change', 'HL_Spread', 'RSI', 'MACD_pct', 'Signal_pct', 'MACD_Histogram']\n",
    "\n",
    "# Scale the features\n",
    "scaler = StandardScaler()\n",
    "data_scaled = data.copy()\n",
    "data_scaled[features] = scaler.fit_transform(data[features])\n"
   ]
  },
  {
   "cell_type": "code",
   "execution_count": 82,
   "metadata": {},
   "outputs": [
    {
     "data": {
      "text/html": [
       "<div>\n",
       "<style scoped>\n",
       "    .dataframe tbody tr th:only-of-type {\n",
       "        vertical-align: middle;\n",
       "    }\n",
       "\n",
       "    .dataframe tbody tr th {\n",
       "        vertical-align: top;\n",
       "    }\n",
       "\n",
       "    .dataframe thead th {\n",
       "        text-align: right;\n",
       "    }\n",
       "</style>\n",
       "<table border=\"1\" class=\"dataframe\">\n",
       "  <thead>\n",
       "    <tr style=\"text-align: right;\">\n",
       "      <th></th>\n",
       "      <th>MA10_pct</th>\n",
       "      <th>MA50_pct</th>\n",
       "      <th>Pct_Change</th>\n",
       "      <th>HL_Spread</th>\n",
       "      <th>RSI</th>\n",
       "      <th>MACD_pct</th>\n",
       "      <th>Signal_pct</th>\n",
       "      <th>MACD_Histogram</th>\n",
       "    </tr>\n",
       "    <tr>\n",
       "      <th>Datetime</th>\n",
       "      <th></th>\n",
       "      <th></th>\n",
       "      <th></th>\n",
       "      <th></th>\n",
       "      <th></th>\n",
       "      <th></th>\n",
       "      <th></th>\n",
       "      <th></th>\n",
       "    </tr>\n",
       "  </thead>\n",
       "  <tbody>\n",
       "    <tr>\n",
       "      <th>2024-08-15 04:50:00</th>\n",
       "      <td>-0.015878</td>\n",
       "      <td>-0.007233</td>\n",
       "      <td>-0.010317</td>\n",
       "      <td>-0.191348</td>\n",
       "      <td>1.756685</td>\n",
       "      <td>0.130720</td>\n",
       "      <td>-0.039030</td>\n",
       "      <td>0.397822</td>\n",
       "    </tr>\n",
       "    <tr>\n",
       "      <th>2024-08-15 04:51:00</th>\n",
       "      <td>0.102173</td>\n",
       "      <td>0.071726</td>\n",
       "      <td>-0.085515</td>\n",
       "      <td>-0.165835</td>\n",
       "      <td>1.000377</td>\n",
       "      <td>0.104964</td>\n",
       "      <td>-0.007528</td>\n",
       "      <td>0.268410</td>\n",
       "    </tr>\n",
       "    <tr>\n",
       "      <th>2024-08-15 04:52:00</th>\n",
       "      <td>0.081538</td>\n",
       "      <td>0.040033</td>\n",
       "      <td>0.014752</td>\n",
       "      <td>-0.162190</td>\n",
       "      <td>0.941388</td>\n",
       "      <td>0.089994</td>\n",
       "      <td>0.014281</td>\n",
       "      <td>0.185803</td>\n",
       "    </tr>\n",
       "    <tr>\n",
       "      <th>2024-08-15 04:53:00</th>\n",
       "      <td>-0.045666</td>\n",
       "      <td>-0.070770</td>\n",
       "      <td>0.098320</td>\n",
       "      <td>-0.176769</td>\n",
       "      <td>1.308554</td>\n",
       "      <td>0.116791</td>\n",
       "      <td>0.037800</td>\n",
       "      <td>0.200500</td>\n",
       "    </tr>\n",
       "    <tr>\n",
       "      <th>2024-08-15 04:54:00</th>\n",
       "      <td>-0.053684</td>\n",
       "      <td>-0.091650</td>\n",
       "      <td>0.014747</td>\n",
       "      <td>-0.133032</td>\n",
       "      <td>1.456131</td>\n",
       "      <td>0.142907</td>\n",
       "      <td>0.062544</td>\n",
       "      <td>0.210897</td>\n",
       "    </tr>\n",
       "    <tr>\n",
       "      <th>...</th>\n",
       "      <td>...</td>\n",
       "      <td>...</td>\n",
       "      <td>...</td>\n",
       "      <td>...</td>\n",
       "      <td>...</td>\n",
       "      <td>...</td>\n",
       "      <td>...</td>\n",
       "      <td>...</td>\n",
       "    </tr>\n",
       "    <tr>\n",
       "      <th>2024-09-13 19:55:00</th>\n",
       "      <td>-0.183983</td>\n",
       "      <td>-0.117268</td>\n",
       "      <td>0.219439</td>\n",
       "      <td>-0.091846</td>\n",
       "      <td>0.474647</td>\n",
       "      <td>-0.007806</td>\n",
       "      <td>-0.032716</td>\n",
       "      <td>0.051190</td>\n",
       "    </tr>\n",
       "    <tr>\n",
       "      <th>2024-09-13 19:56:00</th>\n",
       "      <td>0.098407</td>\n",
       "      <td>0.108620</td>\n",
       "      <td>-0.215119</td>\n",
       "      <td>-0.191348</td>\n",
       "      <td>-0.450841</td>\n",
       "      <td>-0.043597</td>\n",
       "      <td>-0.036177</td>\n",
       "      <td>-0.030343</td>\n",
       "    </tr>\n",
       "    <tr>\n",
       "      <th>2024-09-13 19:57:00</th>\n",
       "      <td>-0.012255</td>\n",
       "      <td>0.019365</td>\n",
       "      <td>0.083190</td>\n",
       "      <td>-0.149433</td>\n",
       "      <td>-0.090651</td>\n",
       "      <td>-0.037558</td>\n",
       "      <td>-0.037566</td>\n",
       "      <td>-0.012261</td>\n",
       "    </tr>\n",
       "    <tr>\n",
       "      <th>2024-09-13 19:58:00</th>\n",
       "      <td>-0.060062</td>\n",
       "      <td>-0.016874</td>\n",
       "      <td>0.034523</td>\n",
       "      <td>-0.118453</td>\n",
       "      <td>0.035145</td>\n",
       "      <td>-0.018123</td>\n",
       "      <td>-0.034271</td>\n",
       "      <td>0.028900</td>\n",
       "    </tr>\n",
       "    <tr>\n",
       "      <th>2024-09-13 19:59:00</th>\n",
       "      <td>-0.057839</td>\n",
       "      <td>-0.015672</td>\n",
       "      <td>-0.001962</td>\n",
       "      <td>-0.111710</td>\n",
       "      <td>0.122112</td>\n",
       "      <td>-0.002883</td>\n",
       "      <td>-0.028179</td>\n",
       "      <td>0.053477</td>\n",
       "    </tr>\n",
       "  </tbody>\n",
       "</table>\n",
       "<p>19798 rows × 8 columns</p>\n",
       "</div>"
      ],
      "text/plain": [
       "                     MA10_pct  MA50_pct  Pct_Change  HL_Spread       RSI  \\\n",
       "Datetime                                                                   \n",
       "2024-08-15 04:50:00 -0.015878 -0.007233   -0.010317  -0.191348  1.756685   \n",
       "2024-08-15 04:51:00  0.102173  0.071726   -0.085515  -0.165835  1.000377   \n",
       "2024-08-15 04:52:00  0.081538  0.040033    0.014752  -0.162190  0.941388   \n",
       "2024-08-15 04:53:00 -0.045666 -0.070770    0.098320  -0.176769  1.308554   \n",
       "2024-08-15 04:54:00 -0.053684 -0.091650    0.014747  -0.133032  1.456131   \n",
       "...                       ...       ...         ...        ...       ...   \n",
       "2024-09-13 19:55:00 -0.183983 -0.117268    0.219439  -0.091846  0.474647   \n",
       "2024-09-13 19:56:00  0.098407  0.108620   -0.215119  -0.191348 -0.450841   \n",
       "2024-09-13 19:57:00 -0.012255  0.019365    0.083190  -0.149433 -0.090651   \n",
       "2024-09-13 19:58:00 -0.060062 -0.016874    0.034523  -0.118453  0.035145   \n",
       "2024-09-13 19:59:00 -0.057839 -0.015672   -0.001962  -0.111710  0.122112   \n",
       "\n",
       "                     MACD_pct  Signal_pct  MACD_Histogram  \n",
       "Datetime                                                   \n",
       "2024-08-15 04:50:00  0.130720   -0.039030        0.397822  \n",
       "2024-08-15 04:51:00  0.104964   -0.007528        0.268410  \n",
       "2024-08-15 04:52:00  0.089994    0.014281        0.185803  \n",
       "2024-08-15 04:53:00  0.116791    0.037800        0.200500  \n",
       "2024-08-15 04:54:00  0.142907    0.062544        0.210897  \n",
       "...                       ...         ...             ...  \n",
       "2024-09-13 19:55:00 -0.007806   -0.032716        0.051190  \n",
       "2024-09-13 19:56:00 -0.043597   -0.036177       -0.030343  \n",
       "2024-09-13 19:57:00 -0.037558   -0.037566       -0.012261  \n",
       "2024-09-13 19:58:00 -0.018123   -0.034271        0.028900  \n",
       "2024-09-13 19:59:00 -0.002883   -0.028179        0.053477  \n",
       "\n",
       "[19798 rows x 8 columns]"
      ]
     },
     "execution_count": 82,
     "metadata": {},
     "output_type": "execute_result"
    }
   ],
   "source": [
    "data_scaled[features]"
   ]
  },
  {
   "cell_type": "markdown",
   "metadata": {},
   "source": [
    "3. Define the Target\n",
    "You can define the target variable for training your model. A common approach is to predict the price direction (1 for upward movement, 0 for downward movement)."
   ]
  },
  {
   "cell_type": "code",
   "execution_count": 84,
   "metadata": {},
   "outputs": [
    {
     "name": "stdout",
     "output_type": "stream",
     "text": [
      "Target\n",
      "0    18149\n",
      "1     1649\n",
      "Name: count, dtype: int64\n"
     ]
    }
   ],
   "source": [
    "def calculate_target(data, n_periods):\n",
    "    \"\"\"\n",
    "    Create a target column based on the price performance over N periods.\n",
    "    \n",
    "    data: DataFrame\n",
    "        The price data.\n",
    "    n_periods: int\n",
    "        Number of periods into the future to evaluate the target.\n",
    "    \"\"\"\n",
    "    # Target: if Close price N periods ahead is greater than current Close price -> 1 (buy), else 0 (sell)\n",
    "    data['Target'] = (data['Close'].shift(-n_periods) > (data['Close']*1.001)).astype(int)\n",
    "    return data\n",
    "\n",
    "# Choose the number of periods, e.g., N=5\n",
    "N = 4\n",
    "data_scaled = calculate_target(data_scaled, N)\n",
    "print(data_scaled['Target'].value_counts())\n",
    "\n",
    "# Drop the last N rows as they won't have valid targets\n",
    "data_scaled = data_scaled.dropna()\n"
   ]
  },
  {
   "cell_type": "markdown",
   "metadata": {},
   "source": [
    "4. Train-Test Split\n",
    "Before training the model, split your data into training and testing sets:"
   ]
  },
  {
   "cell_type": "code",
   "execution_count": 85,
   "metadata": {},
   "outputs": [],
   "source": [
    "# Define feature columns including RSI and MACD-related features\n",
    "features = ['MA10_pct', 'MA50_pct', 'Pct_Change', 'HL_Spread', 'RSI', 'MACD_pct', 'Signal_pct', 'MACD_Histogram']\n",
    "\n",
    "X = data_scaled[features]\n",
    "y = data_scaled['Target']\n",
    "\n",
    "# Split the data into training and testing sets\n",
    "from sklearn.model_selection import train_test_split\n",
    "\n",
    "X_train, X_test, y_train, y_test = train_test_split(X, y, test_size=0.2, shuffle=False)\n"
   ]
  },
  {
   "cell_type": "markdown",
   "metadata": {},
   "source": [
    "5. Train a Logistic Regression Model\n",
    "Logistic regression is a simple model you can use as a starting point:"
   ]
  },
  {
   "cell_type": "code",
   "execution_count": 87,
   "metadata": {},
   "outputs": [
    {
     "name": "stdout",
     "output_type": "stream",
     "text": [
      "Datetime\n",
      "2024-08-15 04:50:00    0\n",
      "2024-08-15 04:51:00    0\n",
      "2024-08-15 04:52:00    0\n",
      "2024-08-15 04:53:00    0\n",
      "2024-08-15 04:54:00    0\n",
      "                      ..\n",
      "2024-09-09 16:04:00    1\n",
      "2024-09-09 16:05:00    1\n",
      "2024-09-09 16:06:00    1\n",
      "2024-09-09 16:07:00    1\n",
      "2024-09-09 16:08:00    0\n",
      "Name: Target, Length: 15838, dtype: int64\n",
      "Model Accuracy for N=4 periods: 0.90\n"
     ]
    }
   ],
   "source": [
    "\n",
    "# Train the logistic regression model\n",
    "from sklearn.linear_model import LogisticRegression\n",
    "from sklearn.metrics import accuracy_score\n",
    "\n",
    "# Increase the number of iterations\n",
    "model = LogisticRegression(max_iter=500)\n",
    "model.fit(X_train, y_train)\n",
    "print(y_train)\n",
    "\n",
    "# Make predictions\n",
    "y_pred = model.predict(X_test)\n",
    "\n",
    "# Evaluate the model\n",
    "accuracy = accuracy_score(y_test, y_pred)\n",
    "print(f\"Model Accuracy for N={N} periods: {accuracy:.2f}\")\n"
   ]
  },
  {
   "cell_type": "code",
   "execution_count": 89,
   "metadata": {},
   "outputs": [
    {
     "data": {
      "text/plain": [
       "['logistic_regression_scaler.pkl']"
      ]
     },
     "execution_count": 89,
     "metadata": {},
     "output_type": "execute_result"
    }
   ],
   "source": [
    "import joblib\n",
    "\n",
    "# Save the model\n",
    "joblib.dump(model, 'logistic_regression_model.pkl')\n",
    "joblib.dump(scaler, 'logistic_regression_scaler.pkl')"
   ]
  }
 ],
 "metadata": {
  "kernelspec": {
   "display_name": ".venv",
   "language": "python",
   "name": "python3"
  },
  "language_info": {
   "codemirror_mode": {
    "name": "ipython",
    "version": 3
   },
   "file_extension": ".py",
   "mimetype": "text/x-python",
   "name": "python",
   "nbconvert_exporter": "python",
   "pygments_lexer": "ipython3",
   "version": "3.12.6"
  }
 },
 "nbformat": 4,
 "nbformat_minor": 2
}
